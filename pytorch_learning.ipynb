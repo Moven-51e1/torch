{
 "cells": [
  {
   "cell_type": "code",
   "execution_count": 13,
   "id": "d267efd8-e1d7-4c48-bb72-b784c64890ae",
   "metadata": {},
   "outputs": [
    {
     "name": "stdout",
     "output_type": "stream",
     "text": [
      "训练样本: (7, 4), 测试样本: (2, 4)\n"
     ]
    }
   ],
   "source": [
    "import numpy as np\n",
    "import torch\n",
    "from torch.utils.data import Dataset, DataLoader\n",
    "\n",
    "# 示例数据（假设每天一个值）\n",
    "data = np.array([10, 20, 30, 40, 50, 60, 70, 80, 90, 100, 110, 120, 130], dtype=np.float32)\n",
    "\n",
    "# 创建特征-标签对\n",
    "def create_dataset(data, window_size=4):\n",
    "    X, y = [], []\n",
    "    for i in range(len(data)-window_size):\n",
    "        X.append(data[i:i+window_size])\n",
    "        y.append(data[i+window_size])\n",
    "    return np.array(X), np.array(y)\n",
    "\n",
    "X, y = create_dataset(data)\n",
    "\n",
    "# 划分训练集和测试集\n",
    "split = int(0.8 * len(X))\n",
    "X_train, X_test = X[:split], X[split:]\n",
    "y_train, y_test = y[:split], y[split:]\n",
    "\n",
    "print(f\"训练样本: {X_train.shape}, 测试样本: {X_test.shape}\")"
   ]
  },
  {
   "cell_type": "code",
   "execution_count": 15,
   "id": "ea8274db-f90d-4db0-8113-fa4d62b9de5d",
   "metadata": {},
   "outputs": [],
   "source": [
    "class TimeSeriesDataset(Dataset):\n",
    "    def __init__(self, features, labels):\n",
    "        self.features = torch.tensor(features)\n",
    "        self.labels = torch.tensor(labels)\n",
    "\n",
    "    def __len__(self):\n",
    "        return len(self.labels)\n",
    "\n",
    "    def __getitem__(self, idx):\n",
    "        return self.features[idx], self.labels[idx]\n",
    "\n",
    "# 创建数据集和数据加载器\n",
    "train_dataset = TimeSeriesDataset(X_train, y_train)\n",
    "test_dataset = TimeSeriesDataset(X_test, y_test)\n",
    "\n",
    "batch_size = 2\n",
    "train_loader = DataLoader(train_dataset, batch_size=batch_size, shuffle=True)\n",
    "test_loader = DataLoader(test_dataset, batch_size=1)"
   ]
  },
  {
   "cell_type": "code",
   "execution_count": 17,
   "id": "25b6a3f1-92c2-4842-8430-cc63b8597de9",
   "metadata": {},
   "outputs": [
    {
     "name": "stdout",
     "output_type": "stream",
     "text": [
      "DNNRegressor(\n",
      "  (network): Sequential(\n",
      "    (0): Linear(in_features=4, out_features=128, bias=True)\n",
      "    (1): ReLU()\n",
      "    (2): Linear(in_features=128, out_features=64, bias=True)\n",
      "    (3): ReLU()\n",
      "    (4): Linear(in_features=64, out_features=1, bias=True)\n",
      "  )\n",
      ")\n"
     ]
    }
   ],
   "source": [
    "class DNNRegressor(torch.nn.Module):\n",
    "    def __init__(self, input_size):\n",
    "        super().__init__()\n",
    "        self.network = torch.nn.Sequential(\n",
    "            torch.nn.Linear(input_size, 128),\n",
    "            torch.nn.ReLU(),\n",
    "            torch.nn.Linear(128, 64),\n",
    "            torch.nn.ReLU(),\n",
    "            torch.nn.Linear(64, 1)\n",
    "        )\n",
    "    \n",
    "    def forward(self, x):\n",
    "        return self.network(x)\n",
    "\n",
    "# 初始化模型\n",
    "model = DNNRegressor(input_size=4)\n",
    "print(model)"
   ]
  },
  {
   "cell_type": "code",
   "execution_count": 19,
   "id": "65767e2e-c342-4bc5-9a62-bff84cd6b947",
   "metadata": {},
   "outputs": [
    {
     "name": "stdout",
     "output_type": "stream",
     "text": [
      "Epoch [20/200], Loss: 150.2244\n",
      "Epoch [40/200], Loss: 4.8982\n",
      "Epoch [60/200], Loss: 21.9907\n",
      "Epoch [80/200], Loss: 0.4987\n",
      "Epoch [100/200], Loss: 2.4936\n",
      "Epoch [120/200], Loss: 0.6840\n",
      "Epoch [140/200], Loss: 0.0228\n",
      "Epoch [160/200], Loss: 0.0001\n",
      "Epoch [180/200], Loss: 0.0031\n",
      "Epoch [200/200], Loss: 0.0018\n"
     ]
    }
   ],
   "source": [
    "# 设置训练参数\n",
    "criterion = torch.nn.MSELoss()\n",
    "optimizer = torch.optim.Adam(model.parameters(), lr=0.001)\n",
    "epochs = 200\n",
    "\n",
    "# 训练循环\n",
    "for epoch in range(epochs):\n",
    "    model.train()\n",
    "    for batch_features, batch_labels in train_loader:\n",
    "        # 前向传播\n",
    "        outputs = model(batch_features)\n",
    "        loss = criterion(outputs.squeeze(), batch_labels)\n",
    "        \n",
    "        # 反向传播和优化\n",
    "        optimizer.zero_grad()\n",
    "        loss.backward()\n",
    "        optimizer.step()\n",
    "    \n",
    "    # 每20个epoch打印损失\n",
    "    if (epoch+1) % 20 == 0:\n",
    "        print(f'Epoch [{epoch+1}/{epochs}], Loss: {loss.item():.4f}')"
   ]
  },
  {
   "cell_type": "code",
   "execution_count": 20,
   "id": "9f5a304c-6f1d-44c0-857c-cd1e052d3e14",
   "metadata": {},
   "outputs": [
    {
     "name": "stdout",
     "output_type": "stream",
     "text": [
      "测试集平均损失: 7.6491\n",
      "预测结果: 157.12\n"
     ]
    }
   ],
   "source": [
    "model.eval()\n",
    "with torch.no_grad():\n",
    "    test_loss = 0\n",
    "    for features, labels in test_loader:\n",
    "        outputs = model(features)\n",
    "        test_loss += criterion(outputs.squeeze(), labels).item()\n",
    "    \n",
    "    print(f'测试集平均损失: {test_loss/len(test_loader):.4f}')\n",
    "\n",
    "# 示例预测\n",
    "sample_input = torch.tensor([110, 120, 130, 140], dtype=torch.float32)\n",
    "prediction = model(sample_input)\n",
    "print(f'预测结果: {prediction.item():.2f}')"
   ]
  },
  {
   "cell_type": "code",
   "execution_count": null,
   "id": "7f3c06c8-5295-4478-a55d-69f104760152",
   "metadata": {},
   "outputs": [],
   "source": []
  }
 ],
 "metadata": {
  "kernelspec": {
   "display_name": "Python [conda env:base] *",
   "language": "python",
   "name": "conda-base-py"
  },
  "language_info": {
   "codemirror_mode": {
    "name": "ipython",
    "version": 3
   },
   "file_extension": ".py",
   "mimetype": "text/x-python",
   "name": "python",
   "nbconvert_exporter": "python",
   "pygments_lexer": "ipython3",
   "version": "3.12.7"
  }
 },
 "nbformat": 4,
 "nbformat_minor": 5
}
